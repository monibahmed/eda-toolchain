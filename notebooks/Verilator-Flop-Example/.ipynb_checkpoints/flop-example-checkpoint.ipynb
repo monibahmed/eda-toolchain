{
 "cells": [
  {
   "cell_type": "code",
   "execution_count": 2,
   "id": "d2d38572-3355-4174-9787-c527ad321ea2",
   "metadata": {},
   "outputs": [
    {
     "name": "stdout",
     "output_type": "stream",
     "text": [
      "Overwriting flop.sv\n"
     ]
    }
   ],
   "source": [
    "%%writefile flop.sv\n",
    "\n",
    "module flop (\n",
    "    input clk, rst_n,\n",
    "    input [3:0] data_in, \n",
    "\n",
    "    output logic [3:0] data_out\n",
    ");\n",
    "\n",
    "always_ff @( posedge clk or negedge rst_n ) begin\n",
    "    if (!rst_n)\n",
    "        data_out <= 'b0;\n",
    "    else\n",
    "        data_out <= data_in;\n",
    "end\n",
    "\n",
    "endmodule\n",
    "\n"
   ]
  },
  {
   "cell_type": "code",
   "execution_count": 3,
   "id": "15b7f03f-9888-467d-8dd1-267fad51f669",
   "metadata": {},
   "outputs": [
    {
     "name": "stderr",
     "output_type": "stream",
     "text": [
      "UsageError: %%writefile is a cell magic, but the cell body is empty.\n"
     ]
    }
   ],
   "source": [
    "%%writefile Makefile\n",
    "\n",
    "# Verilator example makefile\n",
    "# Norbertas Kremeris 2021\n",
    "MODULE=flop\n",
    "\n",
    ".PHONY:sim\n",
    "sim: waveform.vcd\n",
    "\n",
    ".PHONY:verilate\n",
    "verilate: .stamp.verilate\n",
    "\n",
    ".PHONY:build\n",
    "build: obj_dir/V${MODULE}\n",
    "\n",
    ".PHONY:waves\n",
    "waves: waveform.vcd\n",
    "\t@echo\n",
    "\t@echo \"### WAVES ###\"\n",
    "\tgtkwave waveform.vcd -a gtkwave_setup.gtkw\n",
    "\n",
    "waveform.vcd: ./obj_dir/V$(MODULE)\n",
    "\t@echo\n",
    "\t@echo \"### SIMULATING ###\"\n",
    "\t./obj_dir/V$(MODULE) +verilator+rand+reset+1\n",
    "\n",
    "./obj_dir/V$(MODULE): .stamp.verilate\n",
    "\t@echo\n",
    "\t@echo \"### BUILDING SIM ###\"\n",
    "\tmake -C obj_dir -f V$(MODULE).mk V$(MODULE)\n",
    "\n",
    ".stamp.verilate: $(MODULE).sv tb_$(MODULE).cpp\n",
    "\t@echo\n",
    "\t@echo \"### VERILATING ###\"\n",
    "\tverilator -Wall --trace --x-assign unique --x-initial unique -cc $(MODULE).sv --exe tb_$(MODULE).cpp \\\n",
    "\t\t-CFLAGS \"`python3-config --cflags`\" -LDFLAGS \"`python3-config --ldflags`\"\n",
    "\t@touch .stamp.verilate\n",
    "\n",
    ".PHONY:lint\n",
    "lint: $(MODULE).sv\n",
    "\tverilator --lint-only $(MODULE).sv\n",
    "\n",
    ".PHONY: clean\n",
    "clean:\n",
    "\trm -rf .stamp.*;\n",
    "\trm -rf ./obj_dir\n",
    "\trm -rf waveform.vcd\n"
   ]
  },
  {
   "cell_type": "code",
   "execution_count": null,
   "id": "3036e61d-77ba-4365-957a-8475b6791ee7",
   "metadata": {},
   "outputs": [],
   "source": []
  }
 ],
 "metadata": {
  "kernelspec": {
   "display_name": "Python 3 (ipykernel)",
   "language": "python",
   "name": "python3"
  },
  "language_info": {
   "codemirror_mode": {
    "name": "ipython",
    "version": 3
   },
   "file_extension": ".py",
   "mimetype": "text/x-python",
   "name": "python",
   "nbconvert_exporter": "python",
   "pygments_lexer": "ipython3",
   "version": "3.10.6"
  }
 },
 "nbformat": 4,
 "nbformat_minor": 5
}
