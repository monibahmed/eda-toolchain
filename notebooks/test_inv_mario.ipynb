{
 "cells": [
  {
   "cell_type": "code",
   "execution_count": null,
   "id": "35df5053-a3da-4a66-a617-0a4b3847f7cc",
   "metadata": {
    "scrolled": true,
    "tags": []
   },
   "outputs": [],
   "source": [
    "import os\n",
    "import pathlib\n",
    "import sys\n",
    "\n",
    "CONDA_PREFIX = os.environ.get('CONDA_PREFIX', None)\n",
    "conda_prefix_path = pathlib.Path(CONDA_PREFIX)\n",
    "site_package_path = conda_prefix_path / 'lib/python3.7/site-packages'\n",
    "\n",
    "PATH = os.environ['PATH']\n",
    "LD_LIBRARY_PATH = os.environ.get('LD_LIBRARY_PATH', '')\n",
    "\n",
    "print(f'CONDA={conda_prefix_path}')\n",
    "print(f'LD_PATH={LD_LIBRARY_PATH}')\n",
    "print(f'PATH={PATH}')\n"
   ]
  },
  {
   "cell_type": "markdown",
   "id": "ec8d5aa5-d0a0-4447-9ff7-e2d18f0fd7e5",
   "metadata": {},
   "source": [
    "# Required Packages"
   ]
  },
  {
   "cell_type": "code",
   "execution_count": null,
   "id": "b1409535-6eac-445d-864a-f8ff77813c3a",
   "metadata": {},
   "outputs": [],
   "source": [
    "%%writefile environment.yml\n",
    "channels:\n",
    "  - litex-hub\n",
    "  - conda-forge\n",
    "dependencies:\n",
    "  - ngspice\n",
    "  - click\n",
    "  - pyyaml\n",
    "  - tclib\n",
    "  - yosys\n",
    "  - netgen\n",
    "  - openroad \n",
    "  - open_pdks.sky130a\n",
    "  - magic\n",
    "  - ngspice-lib\n",
    "  - gdstk\n",
    "  - python\n",
    "  - pip\n",
    "  - pip:\n",
    "    - cairosvg\n",
    "    - pyspice"
   ]
  },
  {
   "cell_type": "code",
   "execution_count": null,
   "id": "bf8eff1c-4931-4c13-a6e5-abc52ee9e1bd",
   "metadata": {},
   "outputs": [],
   "source": [
    "!conda env update --prefix {CONDA_PREFIX} --file environment.yml"
   ]
  },
  {
   "cell_type": "markdown",
   "id": "49c9dc3d-4bc7-4574-acff-02bac3ac7793",
   "metadata": {},
   "source": [
    "# Digital Inverter"
   ]
  },
  {
   "cell_type": "code",
   "execution_count": null,
   "id": "116ad689",
   "metadata": {},
   "outputs": [],
   "source": [
    "%%writefile inverter.v\n",
    "module inverter(input wire in, output wire out);\n",
    "    assign out = !in;\n",
    "endmodule"
   ]
  },
  {
   "cell_type": "code",
   "execution_count": null,
   "id": "ee1595d7",
   "metadata": {},
   "outputs": [],
   "source": [
    "%%writefile config.tcl\n",
    "set ::env(DESIGN_NAME) inverter\n",
    "set ::env(VERILOG_FILES) \"inverter.v\"\n",
    "set ::env(CLOCK_TREE_SYNTH) 0\n",
    "set ::env(CLOCK_PORT) \"\"\n",
    "set ::env(PL_RANDOM_GLB_PLACEMENT) 1\n",
    "set ::env(FP_SIZING) absolute\n",
    "set ::env(DIE_AREA) \"0 0 50 50\"\n",
    "set ::env(PL_TARGET_DENSITY) 0.80\n",
    "set ::env(FP_PDN_HORIZONTAL_HALO) 6\n",
    "set ::env(FP_PDN_VERTICAL_HALO) 6\n",
    "set ::env(DIODE_INSERTION_STRATEGY) 3\n",
    "\n",
    "# disable version checks because we use conda packaged versions\n",
    "set ::env(TEST_MISMATCHES) none\n",
    "# disable klayout because of https://github.com/hdl/conda-eda/issues/175\n",
    "set ::env(RUN_KLAYOUT) 0\n",
    "# disable CVC because of https://github.com/hdl/conda-eda/issues/174\n",
    "set ::env(RUN_CVC) 0"
   ]
  },
  {
   "cell_type": "code",
   "execution_count": null,
   "id": "73e7808d",
   "metadata": {},
   "outputs": [],
   "source": [
    "import os\n",
    "import pathlib\n",
    "# OPENLANE_ROOT=str(pathlib.Path('OpenLane').resolve())\n",
    "OPENLANE_ROOT='/home/mariowei/notebooks/OpenLane'\n",
    "PATH=os.environ['PATH']\n",
    "\n",
    "%env PDK_ROOT={CONDA_PREFIX}/share/pdk\n",
    "%env PDK=sky130A\n",
    "%env STD_CELL_LIBRARY=sky130_fd_sc_hd\n",
    "%env STD_CELL_LIBRARY_OPT=sky130_fd_sc_hd\n",
    "%env TCLLIBPATH={CONDA_PREFIX}/lib/tcllib1.20\n",
    "%env OPENLANE_ROOT={OPENLANE_ROOT}\n",
    "%env PATH={PATH}:{OPENLANE_ROOT}:{OPENLANE_ROOT}/scripts\n",
    "%env OPENLANE_LOCAL_INSTALL=1\n",
    "!flow.tcl -design ."
   ]
  },
  {
   "cell_type": "code",
   "execution_count": null,
   "id": "376fdcab-8a6e-4fc1-9fff-810ab9a28a76",
   "metadata": {},
   "outputs": [],
   "source": [
    "import pathlib\n",
    "import gdstk\n",
    "import IPython.display\n",
    "\n",
    "gdss = sorted(pathlib.Path('runs').glob('*/results/final/gds/*.gds'))\n",
    "library = gdstk.read_gds(gdss[-1])\n",
    "top_cells = library.top_level()\n",
    "top_cells[0].write_svg('inverter.svg')\n",
    "IPython.display.SVG('inverter.svg')"
   ]
  },
  {
   "cell_type": "markdown",
   "id": "c43ef3ca-7337-44e1-b1c0-b0dd8207cdf5",
   "metadata": {},
   "source": [
    "# Analog Inverter"
   ]
  },
  {
   "cell_type": "markdown",
   "id": "9184722a-c0ba-4849-b7e2-3e4a59b2ce34",
   "metadata": {},
   "source": [
    "## Draw a MOSFET with magic"
   ]
  },
  {
   "cell_type": "code",
   "execution_count": null,
   "id": "10c9ea84",
   "metadata": {},
   "outputs": [],
   "source": [
    "%%script magic -dnull -noconsole -rcfile {CONDA_PREFIX}/share/pdk/sky130A/libs.tech/magic/sky130A.magicrc\n",
    "cellname rename (UNNAMED) mosfet\n",
    "\n",
    "box 0 0 950nm 650nm\n",
    "paint ndiffusion\n",
    "\n",
    "box 400nm -600nm 550nm 1200nm\n",
    "paint polysilicon\n",
    "\n",
    "box 0 0 400nm 650nm\n",
    "label source\n",
    "port make 3\n",
    "\n",
    "box 550nm 0 950nm 650nm\n",
    "label drain\n",
    "port make 1\n",
    "\n",
    "box 400nm -600nm 550nm 0\n",
    "label gate\n",
    "port make 2\n",
    "\n",
    "extract\n",
    "ext2spice lvs\n",
    "ext2spice cthresh 0\n",
    "ext2spice\n",
    "\n",
    "gds labels no\n",
    "gds write mosfet.gds"
   ]
  },
  {
   "cell_type": "code",
   "execution_count": null,
   "id": "c272e13a-56c9-45bb-a605-f95ef858cb8b",
   "metadata": {},
   "outputs": [],
   "source": [
    "import gdstk\n",
    "import cairosvg\n",
    "from IPython.display import Image\n",
    "\n",
    "library = gdstk.read_gds('mosfet.gds')\n",
    "top_cells = library.top_level()\n",
    "top_cells[0].write_svg('mosfet.svg')\n",
    "cairosvg.svg2png(url='mosfet.svg', write_to='mosfet.png', scale=30.0)\n",
    "Image('mosfet.png')"
   ]
  },
  {
   "cell_type": "markdown",
   "id": "664f52b2-a5fb-439d-be2b-f6d2850a5e96",
   "metadata": {},
   "source": [
    "## Simulate the MOFSET with PySpice"
   ]
  },
  {
   "cell_type": "code",
   "execution_count": null,
   "id": "4a58d0d9-47e8-4007-b8ea-1a9fa36e41a2",
   "metadata": {},
   "outputs": [],
   "source": [
    "from PySpice.Spice.Netlist import Circuit, SubCircuit, SubCircuitFactory\n",
    "from PySpice.Unit import *\n",
    "import matplotlib.pyplot as plt\n",
    "\n",
    "circuit = Circuit('mosfet0')\n",
    "circuit.lib(f'{CONDA_PREFIX}/share/pdk/sky130A/libs.tech/ngspice/sky130.lib.spice', 'tt')\n",
    "circuit.include('mosfet.spice')\n",
    "circuit.X('mosfet0', 'mosfet', 'DRAIN', 'GATE', 'VGND')\n",
    "circuit.V('gnd', 'VGND', 0, 0)\n",
    "circuit.V('dd', 'VPWR', 'VGND', 1.8)\n",
    "circuit.R('', 'VPWR', 'DRAIN', '10k')\n",
    "circuit.PulseVoltageSource('Vin', 'GATE', 'VGND',\n",
    "                           initial_value=0@u_V, pulsed_value=1.8@u_V,\n",
    "                           rise_time=10@u_ps, fall_time=10@u_ps,\n",
    "                           pulse_width=1@u_ns, period=2@u_ns, delay_time=1@u_ns)\n",
    "print(str(circuit))\n",
    "simulator = circuit.simulator()\n",
    "analysis = simulator.transient(step_time=10@u_ps, end_time=2@u_ns)\n",
    "print('done')\n",
    "fig, ax = plt.subplots(figsize=(20, 10))\n",
    "ax.set_title('mosfet')\n",
    "ax.set_xlabel('time in 1e-14s')\n",
    "ax.set_ylabel('voltage in V')\n",
    "ax.plot(analysis.GATE)\n",
    "ax.plot(analysis.DRAIN)\n",
    "ax.legend(('GATE', 'DRAIN'))\n",
    "plt.tight_layout()\n",
    "plt.show()"
   ]
  },
  {
   "cell_type": "code",
   "execution_count": null,
   "id": "af02ebb5-a10b-46d4-885c-3c6c007c3962",
   "metadata": {},
   "outputs": [],
   "source": [
    "simulator"
   ]
  },
  {
   "cell_type": "code",
   "execution_count": null,
   "id": "4c6371f4-6ba4-405f-a60e-a9c7d2159d46",
   "metadata": {},
   "outputs": [],
   "source": []
  }
 ],
 "metadata": {
  "kernelspec": {
   "display_name": "Python 3 (ipykernel)",
   "language": "python",
   "name": "python3"
  },
  "language_info": {
   "codemirror_mode": {
    "name": "ipython",
    "version": 3
   },
   "file_extension": ".py",
   "mimetype": "text/x-python",
   "name": "python",
   "nbconvert_exporter": "python",
   "pygments_lexer": "ipython3",
   "version": "3.9.12"
  }
 },
 "nbformat": 4,
 "nbformat_minor": 5
}
