{
 "cells": [
  {
   "cell_type": "code",
   "execution_count": 18,
   "id": "3b468d42-0cc1-4afd-8f4f-b25b64411ac5",
   "metadata": {},
   "outputs": [
    {
     "name": "stdout",
     "output_type": "stream",
     "text": [
      "Overwriting adder_example.cpp\n"
     ]
    }
   ],
   "source": [
    "%%writefile adder_example.cpp\n",
    "#include <pybind11/pybind11.h>\n",
    "namespace py = pybind11;\n",
    "\n",
    "int add(int i, int j) {\n",
    "    return i + j;\n",
    "}\n",
    "\n",
    "PYBIND11_MODULE(adder_example, m) {\n",
    "    m.doc() = \"pybind11 example plugin\"; // optional module docstring\n",
    "    m.def(\"add\", &add, \"A function that adds two numbers\");\n",
    "}"
   ]
  },
  {
   "cell_type": "code",
   "execution_count": 19,
   "id": "7e16c2f4-087a-488d-b6fc-685cfcb62209",
   "metadata": {},
   "outputs": [],
   "source": [
    "!g++ -O3 -Wall -shared -std=c++11 -fPIC $(python3 -m pybind11 --includes) adder_example.cpp -o adder_example$(python3-config --extension-suffix)"
   ]
  },
  {
   "cell_type": "code",
   "execution_count": 20,
   "id": "52162b73-2977-4129-862b-2455e544d341",
   "metadata": {},
   "outputs": [
    {
     "ename": "ImportError",
     "evalue": "dynamic module does not define module export function (PyInit_adder_example)",
     "output_type": "error",
     "traceback": [
      "\u001b[0;31m---------------------------------------------------------------------------\u001b[0m",
      "\u001b[0;31mImportError\u001b[0m                               Traceback (most recent call last)",
      "Input \u001b[0;32mIn [20]\u001b[0m, in \u001b[0;36m<cell line: 1>\u001b[0;34m()\u001b[0m\n\u001b[0;32m----> 1\u001b[0m \u001b[38;5;28;01mimport\u001b[39;00m \u001b[38;5;21;01madder_example\u001b[39;00m\n",
      "\u001b[0;31mImportError\u001b[0m: dynamic module does not define module export function (PyInit_adder_example)"
     ]
    }
   ],
   "source": [
    "import adder_example"
   ]
  },
  {
   "cell_type": "code",
   "execution_count": null,
   "id": "b28441fa-520d-4ecf-bc52-bbfc1ae11cd7",
   "metadata": {},
   "outputs": [],
   "source": []
  }
 ],
 "metadata": {
  "kernelspec": {
   "display_name": "Python 3 (ipykernel)",
   "language": "python",
   "name": "python3"
  },
  "language_info": {
   "codemirror_mode": {
    "name": "ipython",
    "version": 3
   },
   "file_extension": ".py",
   "mimetype": "text/x-python",
   "name": "python",
   "nbconvert_exporter": "python",
   "pygments_lexer": "ipython3",
   "version": "3.10.6"
  }
 },
 "nbformat": 4,
 "nbformat_minor": 5
}
