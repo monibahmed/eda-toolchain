{
 "cells": [
  {
   "cell_type": "code",
   "execution_count": 1,
   "id": "3b468d42-0cc1-4afd-8f4f-b25b64411ac5",
   "metadata": {},
   "outputs": [
    {
     "name": "stdout",
     "output_type": "stream",
     "text": [
      "Overwriting adder_example.cpp\n"
     ]
    }
   ],
   "source": [
    "%%writefile adder_example.cpp\n",
    "#include <pybind11/pybind11.h>\n",
    "namespace py = pybind11;\n",
    "\n",
    "int add(int i, int j) {\n",
    "    return i + j;\n",
    "}\n",
    "\n",
    "PYBIND11_MODULE(adder_example, m) {\n",
    "    m.doc() = \"pybind11 example plugin\"; // optional module docstring\n",
    "    m.def(\"add\", &add, \"A function that adds two numbers\");\n",
    "}"
   ]
  },
  {
   "cell_type": "code",
   "execution_count": 2,
   "id": "7e16c2f4-087a-488d-b6fc-685cfcb62209",
   "metadata": {},
   "outputs": [],
   "source": [
    "!g++ -O3 -Wall -shared -std=c++11 -fPIC $(python3 -m pybind11 --includes) adder_example.cpp -o adder_example$(python3-config --extension-suffix)"
   ]
  },
  {
   "cell_type": "code",
   "execution_count": 3,
   "id": "52162b73-2977-4129-862b-2455e544d341",
   "metadata": {},
   "outputs": [
    {
     "data": {
      "text/plain": [
       "4"
      ]
     },
     "execution_count": 3,
     "metadata": {},
     "output_type": "execute_result"
    }
   ],
   "source": [
    "import adder_example\n",
    "adder_example.add(1,4)"
   ]
  },
  {
   "cell_type": "code",
   "execution_count": null,
   "id": "b28441fa-520d-4ecf-bc52-bbfc1ae11cd7",
   "metadata": {},
   "outputs": [],
   "source": []
  }
 ],
 "metadata": {
  "kernelspec": {
   "display_name": "Python 3 (ipykernel)",
   "language": "python",
   "name": "python3"
  },
  "language_info": {
   "codemirror_mode": {
    "name": "ipython",
    "version": 3
   },
   "file_extension": ".py",
   "mimetype": "text/x-python",
   "name": "python",
   "nbconvert_exporter": "python",
   "pygments_lexer": "ipython3",
   "version": "3.10.6"
  }
 },
 "nbformat": 4,
 "nbformat_minor": 5
}
