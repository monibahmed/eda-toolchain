{
 "cells": [
  {
   "cell_type": "code",
   "execution_count": null,
   "id": "fc9e986b-7cfe-4570-9002-9df75cf70a08",
   "metadata": {},
   "outputs": [],
   "source": [
    "%%writefile pet.cpp\n",
    "\n",
    "#include <pybind11/pybind11.h>\n",
    "namespace py = pybind11;\n",
    "\n",
    "class Pet {\n",
    "    public:\n",
    "        explicit Pet() {}\n",
    "        void setName(const std::string &name_) { name = name_; }\n",
    "        const std::string &getName() const { return name; }\n",
    "    private:\n",
    "        std::string name;\n",
    "};\n",
    "\n",
    "PYBIND11_MODULE(example, m) {\n",
    "    py::class_<Pet>(m, \"Pet\")\n",
    "        .def(py::init<>())\n",
    "        .def(\"setName\", &Pet::setName)\n",
    "        .def(\"getName\", &Pet::getName);\n",
    "}\n"
   ]
  },
  {
   "cell_type": "code",
   "execution_count": null,
   "id": "942b379b-8a37-4534-8118-119e1120d49d",
   "metadata": {},
   "outputs": [],
   "source": [
    "!g++ -O3 -Wall -shared -std=c++11 -fPIC $(python3 -m pybind11 --includes) pet.cpp -o example$(python3-config --extension-suffix)"
   ]
  },
  {
   "cell_type": "code",
   "execution_count": null,
   "id": "1526626a-a971-4acf-a459-aee0d09f4070",
   "metadata": {},
   "outputs": [],
   "source": [
    "import example\n",
    "p = example.Pet()\n",
    "p.setName(\"Molly\")\n",
    "print(p)\n",
    "p.getName()\n"
   ]
  },
  {
   "cell_type": "code",
   "execution_count": null,
   "id": "f8a4b3fa-96bb-4be9-a7e1-6177a8f25c47",
   "metadata": {},
   "outputs": [],
   "source": [
    "p.setName(\"Charly\")\n",
    "p.getName()"
   ]
  }
 ],
 "metadata": {
  "kernelspec": {
   "display_name": "Python 3 (ipykernel)",
   "language": "python",
   "name": "python3"
  },
  "language_info": {
   "codemirror_mode": {
    "name": "ipython",
    "version": 3
   },
   "file_extension": ".py",
   "mimetype": "text/x-python",
   "name": "python",
   "nbconvert_exporter": "python",
   "pygments_lexer": "ipython3",
   "version": "3.10.6"
  }
 },
 "nbformat": 4,
 "nbformat_minor": 5
}
